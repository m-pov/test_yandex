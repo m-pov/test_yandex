{
 "cells": [
  {
   "cell_type": "code",
   "execution_count": 1,
   "metadata": {},
   "outputs": [],
   "source": [
    "%matplotlib inline\n",
    "import pandas as pd\n",
    "import seaborn as sns\n",
    "from datetime import datetime"
   ]
  },
  {
   "cell_type": "markdown",
   "metadata": {},
   "source": [
    "### Немного переделал под Python 3"
   ]
  },
  {
   "cell_type": "markdown",
   "metadata": {},
   "source": [
    "Вводные\n",
    "\n",
    "Водитель может находиться в 4 возможных статусах:\n",
    "    * free -- доступен для нового заказа\n",
    "    * enroute -- едет на заказ\n",
    "    * ontrip -- выполняет заказ\n",
    "    * busy -- недоступен для нового заказа\n",
    "\n",
    "Возможные переходы из одного состояние в другое определены как:\n",
    "    * free -> [free, enroute, busy]\n",
    "    * enroute -> [free, ontrip]\n",
    "    * ontrip -> [free]\n",
    "    * busy -> [free]\n",
    "\n",
    "Почему переходы определяются таким образом:\n",
    "1. Из состояния free можно перейти в\n",
    "    * free -- если водитель ушел в офлайн и заново вышел на линию, тогда подряд будет две записи со статусом free\n",
    "    * enroute -- если водитель принял заказ, то переходит в статус enroute и едет к клиенту\n",
    "    * busy -- если водитель нажал кнопку \"Занят\" в таксометре (пошел на обед и т.д.)\n",
    "2. Из состояния enroute можно перейти в \n",
    "    * free -- если клиент или водитель отменил заказ\n",
    "    * ontrip -- если водитель приехал к клиенту и начал выполнять заказ\n",
    "3. Из состояния ontrip можно перейти только в free (после выполнения заказа)\n",
    "4. Из состояния busy можно перейти только в free\n",
    "\n",
    "Эффективность на поездке -- это время с клиентом в машине (ontrip), деленное на сумму длительностей всех статусов, связанных с поездкой (sum(free) + enroute + ontrip), где sum(free) -- время простоя.\n",
    "\n",
    "Время простоя -- это сумма всех статусов free, предшествующих поездке. Суммируются все статусы free, идущие подряд, а также те, которые были прерваны короткими статусами busy или enroute (короткий статус == меньше какого-то TIMEOUT'а).\n",
    "\n",
    "Имеется набор данных со статусами водителей, по которому необходимо построить зависимость длительности поездки от эффективности.\n",
    "    * driver_id -- id водителя\n",
    "    * status -- один из статусов\n",
    "    * dttm -- время начала статуса\n",
    "\n",
    "Примечания:\n",
    "    * Поездка считается только при наличии статуса ontrip\n",
    "    * Тесты написаны для python 2"
   ]
  },
  {
   "cell_type": "markdown",
   "metadata": {},
   "source": [
    "    1. Написать функцию-генератор, которая будет отдавать соседние элементы в цикле. Функция понадобится для итерирования по записям водителя и проверки соседних статусов по условиям. Не забудьте проверить, что тесты проходят без ошибок (см. test_neighbors)."
   ]
  },
  {
   "cell_type": "code",
   "execution_count": 17,
   "metadata": {},
   "outputs": [],
   "source": [
    "def neighbors(iterable):\n",
    "    # Write generator function which yields \n",
    "    # previous, current and next values in iterable list.\n",
    "    # ... type your code here ...\n",
    "    list_iterable = [None] + list(iterable) + [None]\n",
    "    pointer = 1\n",
    "    \n",
    "    for item in iterable:\n",
    "        #print(list_iterable, pointer)\n",
    "        yield (list_iterable[pointer - 1], list_iterable[pointer], list_iterable[pointer + 1])\n",
    "        pointer += 1"
   ]
  },
  {
   "cell_type": "code",
   "execution_count": 18,
   "metadata": {},
   "outputs": [
    {
     "name": "stdout",
     "output_type": "stream",
     "text": [
      "None\n"
     ]
    }
   ],
   "source": [
    "# Check if test passes\n",
    "def test_neighbors():\n",
    "    test_neighbors = neighbors( range(2) )\n",
    "    #assert test_neighbors.next() == (None, 0, 1)\n",
    "    assert next(test_neighbors) == (None, 0, 1)\n",
    "\n",
    "print(test_neighbors())"
   ]
  },
  {
   "cell_type": "markdown",
   "metadata": {},
   "source": [
    "    2. Сгруппировать данные на уровне водителя таким образом, чтобы в одной строке находились все его записи со статусами и началом статуса списком:"
   ]
  },
  {
   "cell_type": "markdown",
   "metadata": {},
   "source": [
    "Формат исходной таблицы:\n",
    "<table>\n",
    "<tr><td>driver_id</td><td>status</td><td>dttm</td></tr>\n",
    "<tr><td>9f8f9bf3ee8f4874873288c246bd2d05</td><td>free</td><td>2018-02-04 00:19</td></tr>\n",
    "<tr><td>9f8f9bf3ee8f4874873288c246bd2d05</td><td>busy</td><td>2018-02-04 01:03</td></tr>\n",
    "<tr><td>8f174ffd446c456eaf3cca0915d0368d</td><td>free</td><td>2018-02-03 15:43</td></tr>\n",
    "<tr><td>8f174ffd446c456eaf3cca0915d0368d</td><td>enroute</td><td>2018-02-03 17:02</td></tr>\n",
    "<tr><td>...</td><td>...</td><td>...</td></tr>\n",
    "</table>"
   ]
  },
  {
   "cell_type": "markdown",
   "metadata": {},
   "source": [
    "Формат сгруппированной таблицы:\n",
    "<table>\n",
    "<tr><td>driver_id</td><td>driver_info</td></tr>\n",
    "<tr><td>9f8f9bf3ee8f4874873288c246bd2d05</td><td>[(\"free\", 2018-02-04 00:19), (\"busy\", 2018-02-04 01:03)]</td></tr>\n",
    "<tr><td>8f174ffd446c456eaf3cca0915d0368d</td><td>[(\"free\", 2018-02-03 15:43), (\"enroute\", 2018-02-03 17:02) ...]</td></tr>\n",
    "</table>"
   ]
  },
  {
   "cell_type": "code",
   "execution_count": 33,
   "metadata": {},
   "outputs": [
    {
     "data": {
      "text/html": [
       "<div>\n",
       "<style scoped>\n",
       "    .dataframe tbody tr th:only-of-type {\n",
       "        vertical-align: middle;\n",
       "    }\n",
       "\n",
       "    .dataframe tbody tr th {\n",
       "        vertical-align: top;\n",
       "    }\n",
       "\n",
       "    .dataframe thead th {\n",
       "        text-align: right;\n",
       "    }\n",
       "</style>\n",
       "<table border=\"1\" class=\"dataframe\">\n",
       "  <thead>\n",
       "    <tr style=\"text-align: right;\">\n",
       "      <th></th>\n",
       "      <th>driver_id</th>\n",
       "      <th>driver_info</th>\n",
       "    </tr>\n",
       "  </thead>\n",
       "  <tbody>\n",
       "    <tr>\n",
       "      <th>0</th>\n",
       "      <td>029e9b80b45c483fbb00c4695c2d9c09</td>\n",
       "      <td>[(free, 2018-02-18 20:01:18.620339), (enroute,...</td>\n",
       "    </tr>\n",
       "    <tr>\n",
       "      <th>1</th>\n",
       "      <td>041ddc65a16649129eb6dbee9b54d6e8</td>\n",
       "      <td>[(free, 2018-02-18 19:56:21.620339), (busy, 20...</td>\n",
       "    </tr>\n",
       "    <tr>\n",
       "      <th>2</th>\n",
       "      <td>048459e02e63450d9429ceb34601929d</td>\n",
       "      <td>[(free, 2018-02-18 19:49:55.620339), (enroute,...</td>\n",
       "    </tr>\n",
       "    <tr>\n",
       "      <th>3</th>\n",
       "      <td>0f8eccff510f4bdabbff9f40b2262517</td>\n",
       "      <td>[(free, 2018-02-18 21:02:40.620339), (busy, 20...</td>\n",
       "    </tr>\n",
       "    <tr>\n",
       "      <th>4</th>\n",
       "      <td>14637bc848b24ac49fbadc43d207e375</td>\n",
       "      <td>[(free, 2018-02-18 20:36:13.620339), (enroute,...</td>\n",
       "    </tr>\n",
       "  </tbody>\n",
       "</table>\n",
       "</div>"
      ],
      "text/plain": [
       "                          driver_id  \\\n",
       "0  029e9b80b45c483fbb00c4695c2d9c09   \n",
       "1  041ddc65a16649129eb6dbee9b54d6e8   \n",
       "2  048459e02e63450d9429ceb34601929d   \n",
       "3  0f8eccff510f4bdabbff9f40b2262517   \n",
       "4  14637bc848b24ac49fbadc43d207e375   \n",
       "\n",
       "                                         driver_info  \n",
       "0  [(free, 2018-02-18 20:01:18.620339), (enroute,...  \n",
       "1  [(free, 2018-02-18 19:56:21.620339), (busy, 20...  \n",
       "2  [(free, 2018-02-18 19:49:55.620339), (enroute,...  \n",
       "3  [(free, 2018-02-18 21:02:40.620339), (busy, 20...  \n",
       "4  [(free, 2018-02-18 20:36:13.620339), (enroute,...  "
      ]
     },
     "execution_count": 33,
     "metadata": {},
     "output_type": "execute_result"
    }
   ],
   "source": [
    "#df = pd.read_csv(\".../dataset.csv\", parse_dates=[\"dttm\"])\n",
    "df = pd.read_csv(\"dataset.csv\", parse_dates=[\"dttm\"])\n",
    "# ... type your code here ...\n",
    "groupped_dict = {}\n",
    "for driver_id, tmp_df in df.groupby('driver_id'):\n",
    "    tmp_df = tmp_df.sort_values('dttm')\n",
    "    groupped_dict[driver_id] = list(zip(tmp_df.status, tmp_df.dttm))\n",
    "groupped_df = pd.Series(groupped_dict).reset_index()\n",
    "groupped_df.columns = ['driver_id', 'driver_info']\n",
    "groupped_df.head()"
   ]
  },
  {
   "cell_type": "markdown",
   "metadata": {},
   "source": [
    "    3. Используя функцию neighbors, написать функцию, которая для каждой записи в списке driver_info посчитает ее длительность."
   ]
  },
  {
   "cell_type": "code",
   "execution_count": 56,
   "metadata": {},
   "outputs": [],
   "source": [
    "def calc_status_duration(driver_info):\n",
    "    driver_info_updated = []\n",
    "    for i, j, k in neighbors(driver_info):\n",
    "        # ... type your code here ...\n",
    "        if k != None:\n",
    "            driver_info_updated.append(j + ((k[1] - j[1]).total_seconds(),))\n",
    "        else:\n",
    "            driver_info_updated.append(j + (None,))\n",
    "    return driver_info_updated"
   ]
  },
  {
   "cell_type": "code",
   "execution_count": 58,
   "metadata": {},
   "outputs": [],
   "source": [
    "# Check if test passes\n",
    "def test_calc_status_duration():\n",
    "    sample_driver_info = [(\"free\", datetime(2018, 4, 2, 0, 19)), \n",
    "                          (\"busy\", datetime(2018, 4, 2, 1, 3)),]\n",
    "    sample_driver_info_updated = [('free', datetime(2018, 4, 2, 0, 19), 2640.0),\n",
    "                                  ('busy', datetime(2018, 4, 2, 1, 3), None),]\n",
    "    assert calc_status_duration(sample_driver_info) == sample_driver_info_updated\n",
    "\n",
    "test_calc_status_duration()"
   ]
  },
  {
   "cell_type": "code",
   "execution_count": 60,
   "metadata": {},
   "outputs": [],
   "source": [
    "df = groupped_df.copy()\n",
    "df[\"driver_info\"] = df.driver_info.apply(calc_status_duration)"
   ]
  },
  {
   "cell_type": "markdown",
   "metadata": {},
   "source": [
    "    4. Используя функцию neighbors, написать функцию, которая сформирует из списка driver_info список поездок с информацией о длительности поездки и эффективности (duration_ontrip, efficiency)."
   ]
  },
  {
   "cell_type": "code",
   "execution_count": 61,
   "metadata": {},
   "outputs": [
    {
     "data": {
      "text/html": [
       "<div>\n",
       "<style scoped>\n",
       "    .dataframe tbody tr th:only-of-type {\n",
       "        vertical-align: middle;\n",
       "    }\n",
       "\n",
       "    .dataframe tbody tr th {\n",
       "        vertical-align: top;\n",
       "    }\n",
       "\n",
       "    .dataframe thead th {\n",
       "        text-align: right;\n",
       "    }\n",
       "</style>\n",
       "<table border=\"1\" class=\"dataframe\">\n",
       "  <thead>\n",
       "    <tr style=\"text-align: right;\">\n",
       "      <th></th>\n",
       "      <th>driver_id</th>\n",
       "      <th>driver_info</th>\n",
       "    </tr>\n",
       "  </thead>\n",
       "  <tbody>\n",
       "    <tr>\n",
       "      <th>0</th>\n",
       "      <td>029e9b80b45c483fbb00c4695c2d9c09</td>\n",
       "      <td>[(free, 2018-02-18 20:01:18.620339, 2499.0), (...</td>\n",
       "    </tr>\n",
       "    <tr>\n",
       "      <th>1</th>\n",
       "      <td>041ddc65a16649129eb6dbee9b54d6e8</td>\n",
       "      <td>[(free, 2018-02-18 19:56:21.620339, 2862.0), (...</td>\n",
       "    </tr>\n",
       "    <tr>\n",
       "      <th>2</th>\n",
       "      <td>048459e02e63450d9429ceb34601929d</td>\n",
       "      <td>[(free, 2018-02-18 19:49:55.620339, 1233.0), (...</td>\n",
       "    </tr>\n",
       "    <tr>\n",
       "      <th>3</th>\n",
       "      <td>0f8eccff510f4bdabbff9f40b2262517</td>\n",
       "      <td>[(free, 2018-02-18 21:02:40.620339, 1574.0), (...</td>\n",
       "    </tr>\n",
       "    <tr>\n",
       "      <th>4</th>\n",
       "      <td>14637bc848b24ac49fbadc43d207e375</td>\n",
       "      <td>[(free, 2018-02-18 20:36:13.620339, 1271.0), (...</td>\n",
       "    </tr>\n",
       "  </tbody>\n",
       "</table>\n",
       "</div>"
      ],
      "text/plain": [
       "                          driver_id  \\\n",
       "0  029e9b80b45c483fbb00c4695c2d9c09   \n",
       "1  041ddc65a16649129eb6dbee9b54d6e8   \n",
       "2  048459e02e63450d9429ceb34601929d   \n",
       "3  0f8eccff510f4bdabbff9f40b2262517   \n",
       "4  14637bc848b24ac49fbadc43d207e375   \n",
       "\n",
       "                                         driver_info  \n",
       "0  [(free, 2018-02-18 20:01:18.620339, 2499.0), (...  \n",
       "1  [(free, 2018-02-18 19:56:21.620339, 2862.0), (...  \n",
       "2  [(free, 2018-02-18 19:49:55.620339, 1233.0), (...  \n",
       "3  [(free, 2018-02-18 21:02:40.620339, 1574.0), (...  \n",
       "4  [(free, 2018-02-18 20:36:13.620339, 1271.0), (...  "
      ]
     },
     "execution_count": 61,
     "metadata": {},
     "output_type": "execute_result"
    }
   ],
   "source": [
    "df.head()"
   ]
  },
  {
   "cell_type": "code",
   "execution_count": 93,
   "metadata": {},
   "outputs": [],
   "source": [
    "TIMEOUT = 1600\n",
    "\n",
    "def collapse_statuses(driver_info):\n",
    "    # Here define conditions under which the \"free\" state \n",
    "    # should be attributed to the trip.\n",
    "    # ... type your code here ...\n",
    "    time = 0\n",
    "    trips = []\n",
    "    for i, j, k in neighbors(driver_info):\n",
    "        if k == None:\n",
    "            break\n",
    "        if (j[0] in ['enroute', 'busy']) and (k[0] == 'free') and (j[2] >= TIMEOUT):\n",
    "            time = 0\n",
    "        elif (j[0] == 'enroute') and (k[0] == 'free'):\n",
    "            pass\n",
    "        elif (j[0] == 'ontrip') and (k[0] == 'free'):\n",
    "            time += j[2]\n",
    "            trips.append((j[2], j[2] / time))\n",
    "            time = 0\n",
    "        elif (j[2] != None):\n",
    "            time += j[2]\n",
    "    return trips"
   ]
  },
  {
   "cell_type": "code",
   "execution_count": 88,
   "metadata": {},
   "outputs": [],
   "source": [
    "# Check if test passes\n",
    "def test_collapse_statuses():\n",
    "    sample_driver_info = [(\"free\", datetime(2018, 4, 2, 0, 19), 2640.0), \n",
    "                          (\"busy\", datetime(2018, 4, 2, 1, 3), 1660.0),\n",
    "                          (\"free\", datetime(2018, 4, 2, 1, 30, 40), 2050.0),\n",
    "                          (\"enroute\", datetime(2018, 4, 2, 2, 4, 50), 70.0),\n",
    "                          (\"free\", datetime(2018, 4, 2, 2, 6), 500.0),\n",
    "                          (\"enroute\", datetime(2018, 4, 2, 2, 14, 20), 520.0),\n",
    "                          (\"ontrip\", datetime(2018, 4, 2, 2, 23), 3060.0),\n",
    "                          (\"free\", datetime(2018, 4, 2, 3, 14), None)\n",
    "                         ]\n",
    "    sample_driver_info_updated = [(3060.0, 3060.0 / (3060.0 + 520.0 + 500.0 + 2050.0))]\n",
    "    assert collapse_statuses(sample_driver_info) == sample_driver_info_updated\n",
    "\n",
    "test_collapse_statuses()"
   ]
  },
  {
   "cell_type": "code",
   "execution_count": 95,
   "metadata": {},
   "outputs": [],
   "source": [
    "df[\"driver_info\"] = df.driver_info.apply(collapse_statuses)"
   ]
  },
  {
   "cell_type": "code",
   "execution_count": 96,
   "metadata": {},
   "outputs": [
    {
     "data": {
      "text/html": [
       "<div>\n",
       "<style scoped>\n",
       "    .dataframe tbody tr th:only-of-type {\n",
       "        vertical-align: middle;\n",
       "    }\n",
       "\n",
       "    .dataframe tbody tr th {\n",
       "        vertical-align: top;\n",
       "    }\n",
       "\n",
       "    .dataframe thead th {\n",
       "        text-align: right;\n",
       "    }\n",
       "</style>\n",
       "<table border=\"1\" class=\"dataframe\">\n",
       "  <thead>\n",
       "    <tr style=\"text-align: right;\">\n",
       "      <th></th>\n",
       "      <th>driver_id</th>\n",
       "      <th>driver_info</th>\n",
       "    </tr>\n",
       "  </thead>\n",
       "  <tbody>\n",
       "    <tr>\n",
       "      <th>0</th>\n",
       "      <td>029e9b80b45c483fbb00c4695c2d9c09</td>\n",
       "      <td>[(4561.0, 0.4108268780399928), (3622.0, 0.3631...</td>\n",
       "    </tr>\n",
       "    <tr>\n",
       "      <th>1</th>\n",
       "      <td>041ddc65a16649129eb6dbee9b54d6e8</td>\n",
       "      <td>[(2985.0, 0.41724909141738886), (5845.0, 0.558...</td>\n",
       "    </tr>\n",
       "    <tr>\n",
       "      <th>2</th>\n",
       "      <td>048459e02e63450d9429ceb34601929d</td>\n",
       "      <td>[(1116.0, 0.2014076881429345), (5261.0, 0.2796...</td>\n",
       "    </tr>\n",
       "    <tr>\n",
       "      <th>3</th>\n",
       "      <td>0f8eccff510f4bdabbff9f40b2262517</td>\n",
       "      <td>[(2780.0, 0.2212847249860702), (3580.0, 0.2961...</td>\n",
       "    </tr>\n",
       "    <tr>\n",
       "      <th>4</th>\n",
       "      <td>14637bc848b24ac49fbadc43d207e375</td>\n",
       "      <td>[(4526.0, 0.4395028160807924), (149.0, 0.01055...</td>\n",
       "    </tr>\n",
       "  </tbody>\n",
       "</table>\n",
       "</div>"
      ],
      "text/plain": [
       "                          driver_id  \\\n",
       "0  029e9b80b45c483fbb00c4695c2d9c09   \n",
       "1  041ddc65a16649129eb6dbee9b54d6e8   \n",
       "2  048459e02e63450d9429ceb34601929d   \n",
       "3  0f8eccff510f4bdabbff9f40b2262517   \n",
       "4  14637bc848b24ac49fbadc43d207e375   \n",
       "\n",
       "                                         driver_info  \n",
       "0  [(4561.0, 0.4108268780399928), (3622.0, 0.3631...  \n",
       "1  [(2985.0, 0.41724909141738886), (5845.0, 0.558...  \n",
       "2  [(1116.0, 0.2014076881429345), (5261.0, 0.2796...  \n",
       "3  [(2780.0, 0.2212847249860702), (3580.0, 0.2961...  \n",
       "4  [(4526.0, 0.4395028160807924), (149.0, 0.01055...  "
      ]
     },
     "execution_count": 96,
     "metadata": {},
     "output_type": "execute_result"
    }
   ],
   "source": [
    "df.head()"
   ]
  },
  {
   "cell_type": "markdown",
   "metadata": {},
   "source": [
    "    5. Нарисовать и проинтерпретировать зависимость между длительностью поездки и эффективностью.\n",
    "    Подсказка: требуется сделать обратное преобразование из таблицы со строками на уровне водителя в таблицу со строками на уровне поездки."
   ]
  },
  {
   "cell_type": "code",
   "execution_count": 104,
   "metadata": {},
   "outputs": [
    {
     "data": {
      "text/html": [
       "<div>\n",
       "<style scoped>\n",
       "    .dataframe tbody tr th:only-of-type {\n",
       "        vertical-align: middle;\n",
       "    }\n",
       "\n",
       "    .dataframe tbody tr th {\n",
       "        vertical-align: top;\n",
       "    }\n",
       "\n",
       "    .dataframe thead th {\n",
       "        text-align: right;\n",
       "    }\n",
       "</style>\n",
       "<table border=\"1\" class=\"dataframe\">\n",
       "  <thead>\n",
       "    <tr style=\"text-align: right;\">\n",
       "      <th></th>\n",
       "      <th>ontrip</th>\n",
       "      <th>efficiency</th>\n",
       "    </tr>\n",
       "  </thead>\n",
       "  <tbody>\n",
       "    <tr>\n",
       "      <th>0</th>\n",
       "      <td>4561.0</td>\n",
       "      <td>0.410827</td>\n",
       "    </tr>\n",
       "    <tr>\n",
       "      <th>1</th>\n",
       "      <td>3622.0</td>\n",
       "      <td>0.363144</td>\n",
       "    </tr>\n",
       "    <tr>\n",
       "      <th>2</th>\n",
       "      <td>2985.0</td>\n",
       "      <td>0.417249</td>\n",
       "    </tr>\n",
       "    <tr>\n",
       "      <th>3</th>\n",
       "      <td>5845.0</td>\n",
       "      <td>0.558049</td>\n",
       "    </tr>\n",
       "    <tr>\n",
       "      <th>4</th>\n",
       "      <td>1074.0</td>\n",
       "      <td>0.124840</td>\n",
       "    </tr>\n",
       "  </tbody>\n",
       "</table>\n",
       "</div>"
      ],
      "text/plain": [
       "   ontrip  efficiency\n",
       "0  4561.0    0.410827\n",
       "1  3622.0    0.363144\n",
       "2  2985.0    0.417249\n",
       "3  5845.0    0.558049\n",
       "4  1074.0    0.124840"
      ]
     },
     "execution_count": 104,
     "metadata": {},
     "output_type": "execute_result"
    }
   ],
   "source": [
    "res_df = pd.DataFrame(df.driver_info.sum(), columns=['ontrip', 'efficiency'])\n",
    "res_df.head()"
   ]
  },
  {
   "cell_type": "code",
   "execution_count": 124,
   "metadata": {},
   "outputs": [],
   "source": [
    "import statsmodels.api as sm\n",
    "\n",
    "sm_results = sm.OLS(res_df.efficiency, sm.add_constant(res_df.ontrip)).fit()"
   ]
  },
  {
   "cell_type": "code",
   "execution_count": 125,
   "metadata": {},
   "outputs": [
    {
     "data": {
      "text/plain": [
       "[<matplotlib.lines.Line2D at 0x7f6e3757df98>]"
      ]
     },
     "execution_count": 125,
     "metadata": {},
     "output_type": "execute_result"
    },
    {
     "data": {
      "image/png": "[encoded data removed]",
      "text/plain": [
       "<Figure size 1008x432 with 1 Axes>"
      ]
     },
     "metadata": {},
     "output_type": "display_data"
    }
   ],
   "source": [
    "import matplotlib.pyplot as plt\n",
    "\n",
    "lin_y = res_df.ontrip.map(lambda x: x*sm_results.params.ontrip + sm_results.params.const)\n",
    "res_df.plot.scatter(x = 'ontrip', y = 'efficiency', figsize=(14,6), grid=True)\n",
    "plt.plot(res_df.ontrip, lin_y, color = 'r')"
   ]
  },
  {
   "cell_type": "markdown",
   "metadata": {},
   "source": [
    "На уровне зависимости видим выраженный положительный тренд. Взаимосвязь ожидаема: с ростом времени поездки в формуле efficiency наибольший рост характерен для параметра ontrip. Время простоя и enroute растут с существенно меньшей скоростью либо остаются константны (с некоторым шумом) - как минимум, между временем простоя + enroute и временем поездки нет линейной взаимосвязи.\n",
    "\n",
    "Взаимосвязь более точно аппроксимируется гиперболой - видимо, поездки с наибольшей длительностью требуют большего времени enroute (аэропорт, подмосковье, т.п.). Большая часть поездок (визуально) имеет небольшую продолжительность и, соответственно, эффективность - вероятно, они приходятся на город с высоким временем простоя и использованием такси в тех случаях, когда маршрут через метро неоптимален."
   ]
  },
  {
   "cell_type": "code",
   "execution_count": null,
   "metadata": {},
   "outputs": [],
   "source": []
  },
  {
   "cell_type": "code",
   "execution_count": null,
   "metadata": {},
   "outputs": [],
   "source": []
  },
  {
   "cell_type": "code",
   "execution_count": null,
   "metadata": {},
   "outputs": [],
   "source": []
  },
  {
   "cell_type": "code",
   "execution_count": null,
   "metadata": {},
   "outputs": [],
   "source": []
  },
  {
   "cell_type": "code",
   "execution_count": null,
   "metadata": {},
   "outputs": [],
   "source": []
  },
  {
   "cell_type": "code",
   "execution_count": null,
   "metadata": {},
   "outputs": [],
   "source": []
  },
  {
   "cell_type": "code",
   "execution_count": null,
   "metadata": {},
   "outputs": [],
   "source": []
  },
  {
   "cell_type": "code",
   "execution_count": null,
   "metadata": {},
   "outputs": [],
   "source": []
  },
  {
   "cell_type": "code",
   "execution_count": null,
   "metadata": {},
   "outputs": [],
   "source": []
  },
  {
   "cell_type": "code",
   "execution_count": null,
   "metadata": {},
   "outputs": [],
   "source": []
  },
  {
   "cell_type": "code",
   "execution_count": null,
   "metadata": {},
   "outputs": [],
   "source": []
  },
  {
   "cell_type": "code",
   "execution_count": null,
   "metadata": {},
   "outputs": [],
   "source": []
  },
  {
   "cell_type": "code",
   "execution_count": null,
   "metadata": {},
   "outputs": [],
   "source": []
  }
 ],
 "metadata": {
  "kernelspec": {
   "display_name": "Python 3",
   "language": "python",
   "name": "python3"
  },
  "language_info": {
   "codemirror_mode": {
    "name": "ipython",
    "version": 3
   },
   "file_extension": ".py",
   "mimetype": "text/x-python",
   "name": "python",
   "nbconvert_exporter": "python",
   "pygments_lexer": "ipython3",
   "version": "3.5.2"
  }
 },
 "nbformat": 4,
 "nbformat_minor": 2
}
